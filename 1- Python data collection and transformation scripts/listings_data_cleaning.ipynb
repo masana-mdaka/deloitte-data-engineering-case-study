{
 "cells": [
  {
   "cell_type": "markdown",
   "metadata": {
    "id": "m0kYJcULNI0s"
   },
   "source": [
    "Import libraries"
   ]
  },
  {
   "cell_type": "code",
   "execution_count": 4,
   "metadata": {
    "executionInfo": {
     "elapsed": 914,
     "status": "ok",
     "timestamp": 1730725513257,
     "user": {
      "displayName": "Masana Mdaka",
      "userId": "08257775275647080753"
     },
     "user_tz": -120
    },
    "id": "9ecFXB6eNEbt"
   },
   "outputs": [],
   "source": [
    "import pandas as pd"
   ]
  },
  {
   "cell_type": "markdown",
   "metadata": {
    "id": "SLlYg7UONS7J"
   },
   "source": [
    "Import data"
   ]
  },
  {
   "cell_type": "code",
   "execution_count": 3,
   "metadata": {
    "executionInfo": {
     "elapsed": 8,
     "status": "ok",
     "timestamp": 1730724485115,
     "user": {
      "displayName": "Masana Mdaka",
      "userId": "08257775275647080753"
     },
     "user_tz": -120
    },
    "id": "Ih1F3BfwNNqL"
   },
   "outputs": [],
   "source": [
    "listings_df = pd.read_csv('/content/listings.csv')"
   ]
  },
  {
   "cell_type": "markdown",
   "metadata": {
    "id": "Os1q5RP3NnFU"
   },
   "source": [
    "Clean data"
   ]
  },
  {
   "cell_type": "code",
   "execution_count": 4,
   "metadata": {
    "executionInfo": {
     "elapsed": 7,
     "status": "ok",
     "timestamp": 1730724485115,
     "user": {
      "displayName": "Masana Mdaka",
      "userId": "08257775275647080753"
     },
     "user_tz": -120
    },
    "id": "ZJ9CXwvINouY"
   },
   "outputs": [],
   "source": [
    "# Keep only necessary fields\n",
    "listings_df = listings_df[['id', 'name', 'neighbourhood', 'latitude', 'longitude','room_type', 'price']]"
   ]
  },
  {
   "cell_type": "markdown",
   "metadata": {
    "id": "-yZgldteN-50"
   },
   "source": [
    "Export to csv"
   ]
  },
  {
   "cell_type": "code",
   "execution_count": null,
   "metadata": {
    "executionInfo": {
     "elapsed": 640,
     "status": "ok",
     "timestamp": 1730724534215,
     "user": {
      "displayName": "Masana Mdaka",
      "userId": "08257775275647080753"
     },
     "user_tz": -120
    },
    "id": "tVSHwQgeN-HM"
   },
   "outputs": [],
   "source": [
    "listings_df.to_csv('Listings.csv', index=False)"
   ]
  }
 ],
 "metadata": {
  "colab": {
   "authorship_tag": "ABX9TyMJAzOlikKAKyIowXoyFo97",
   "provenance": []
  },
  "kernelspec": {
   "display_name": "Python 3",
   "name": "python3"
  },
  "language_info": {
   "name": "python"
  }
 },
 "nbformat": 4,
 "nbformat_minor": 0
}
